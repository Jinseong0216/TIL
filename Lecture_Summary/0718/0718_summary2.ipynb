{
  "metadata": {
    "kernelspec": {
      "name": "python",
      "display_name": "Python (Pyodide)",
      "language": "python"
    },
    "language_info": {
      "codemirror_mode": {
        "name": "python",
        "version": 3
      },
      "file_extension": ".py",
      "mimetype": "text/x-python",
      "name": "python",
      "nbconvert_exporter": "python",
      "pygments_lexer": "ipython3",
      "version": "3.8"
    }
  },
  "nbformat_minor": 4,
  "nbformat": 4,
  "cells": [
    {
      "cell_type": "markdown",
      "source": "### 07/18(목) 수업내용 정리",
      "metadata": {}
    },
    {
      "cell_type": "markdown",
      "source": "#### **패키지**",
      "metadata": {
        "jp-MarkdownHeadingCollapsed": true
      }
    },
    {
      "cell_type": "markdown",
      "source": "#####\n```(python)\nfrom my_package.math import my_math\nfrom my_package.statistics import tools\n\nprint(my_math.add(3,4))\nprint(tools.mod(1,2))\n```\n\n- PSL(내부패키지) & PIP(외부패키지)\n    - PIP 설치시에 특정버전, 최소 버전을 명시하여 설치 할 수 있음.\n        - `pip install pack_name == 1.0.5`\n        - `pip install pack_name >= 1.05`\n    \n    - **request 패키지**(가장 중요)\n\n    - 오늘 한 것은 PIP를 통해 전역설치(global)를 한 것이지만... 일반적으로는 가상환경에 설치하여 따로 관리함\n \n    - JSON Formatter(확장프로그램)을 설치하여\n        - 'https://random-data-api.com/api/v2/users'를 정리가 된 상태로 볼 수 있음",
      "metadata": {}
    },
    {
      "cell_type": "markdown",
      "source": "#### **조건문, 반복문**",
      "metadata": {}
    },
    {
      "cell_type": "markdown",
      "source": "##### 동시 조건문과 중첩 조건문의 차이를 알아야함",
      "metadata": {
        "jp-MarkdownHeadingCollapsed": true
      }
    },
    {
      "cell_type": "markdown",
      "source": "###### \n```\nif condition_1\nelif condition_2\n```\n에서 condition_1만족 시 elif는 실행되지 않음",
      "metadata": {}
    },
    {
      "cell_type": "markdown",
      "source": "##### for문 사용시 명칭 잘 하기",
      "metadata": {
        "jp-MarkdownHeadingCollapsed": true
      }
    },
    {
      "cell_type": "markdown",
      "source": "###### 예시\nfor item in items 같은 형태로",
      "metadata": {
        "jp-MarkdownHeadingCollapsed": true
      }
    },
    {
      "cell_type": "markdown",
      "source": "##### flag variable",
      "metadata": {
        "jp-MarkdownHeadingCollapsed": true
      }
    },
    {
      "cell_type": "markdown",
      "source": "######\n```\nnumbers = [1, 3, 5, 6, 7, 9, 10, 11]\nfound_even = False\n\nfor number in numbers:\n    if number % 2 == 0:\n        print(f'첫 번째 짝수 {number}를 찾았습니다.')\n        found_even = True\n        break\nif found_even == False:\n    print('짝수를 찾지못했습니다.')\n```\n\n이런 경우, found_even을 flag variable이라 부르기도 함",
      "metadata": {}
    },
    {
      "cell_type": "markdown",
      "source": "#### **List Comprehension**",
      "metadata": {
        "jp-MarkdownHeadingCollapsed": true
      }
    },
    {
      "cell_type": "markdown",
      "source": "##### 두 가지 방법이 존재",
      "metadata": {
        "jp-MarkdownHeadingCollapsed": true
      }
    },
    {
      "cell_type": "markdown",
      "source": "######\n\n```\n    squared_numbers2 = [num**2 for num in numbers]   \n    squared_numbers2 = list(num**2 for num in numbers\n    ```\n\n    그러나 첫 번째 방법이 스탠다드 함",
      "metadata": {}
    },
    {
      "cell_type": "markdown",
      "source": "##### 조건문도 사용이 가능함",
      "metadata": {
        "jp-MarkdownHeadingCollapsed": true
      }
    },
    {
      "cell_type": "markdown",
      "source": "######\n- 여러개의 조건문을 사용 할 경우, ([i+j for j in list_2 for i in list_1])\n\n  **오른쪽에서 왼쪽**( 결과 <-- 변수2 <-- 변수 1) 으로 작동 됨",
      "metadata": {}
    },
    {
      "cell_type": "markdown",
      "source": "##### 성능 비교",
      "metadata": {
        "jp-MarkdownHeadingCollapsed": true
      }
    },
    {
      "cell_type": "markdown",
      "source": "######\n1. list comprehension\n    - 대부분의 경우 가장 빠르고 파이썬스러운(Pythonic) 방법\n2. map\n    - 특정 상황(예: 기존 함수를 사용할 때)에서 리스트 컴프리헨션과 비슷하거나 약간 더 빠를 수 있음\n3. loop\n    - 일반적으로 가장 느리다고 알려져 있지만,\n\n      python 버전이 올라가면서 다른 방식과 비슷하거나 때로는 더 나은 결과를 보이기도 함\n    \n    - 복잡한 로직이 필요한 경우에는 여전히 유용하게 사용될 수 있음\n\n- 결론\n    - 성능 차이는 대부분의 경우 미미하므로, \n\n      코드의 가독성과 유지보수성을 고려하여 상황에 맞는 적절한 방법을 선택하는 것을 권장\n",
      "metadata": {}
    },
    {
      "cell_type": "markdown",
      "source": "##### **이런 표현 좋은듯??**",
      "metadata": {
        "jp-MarkdownHeadingCollapsed": true
      }
    },
    {
      "cell_type": "markdown",
      "source": "######\n```\na = [i * j for j in range(2, 10)\n       for i in range(1, 10)]\n```",
      "metadata": {}
    },
    {
      "cell_type": "markdown",
      "source": "#### **enumerate**",
      "metadata": {
        "jp-MarkdownHeadingCollapsed": true
      }
    },
    {
      "cell_type": "markdown",
      "source": "#####\n- iterate하는 ...",
      "metadata": {}
    },
    {
      "cell_type": "markdown",
      "source": "#### **하늘쌤 정리**",
      "metadata": {}
    },
    {
      "cell_type": "markdown",
      "source": "##### **module**",
      "metadata": {
        "jp-MarkdownHeadingCollapsed": true
      }
    },
    {
      "cell_type": "markdown",
      "source": "- 오래전에는 없었음\n- 협업의 필요성으로 인해 나오게 된 것",
      "metadata": {}
    },
    {
      "cell_type": "markdown",
      "source": "##### **제어문**",
      "metadata": {
        "jp-MarkdownHeadingCollapsed": true
      }
    },
    {
      "cell_type": "markdown",
      "source": "- 반복계산 빠르게\n- 수행의 flow를 제어 하는 것",
      "metadata": {}
    },
    {
      "cell_type": "markdown",
      "source": "##### **dictionary**",
      "metadata": {}
    },
    {
      "cell_type": "markdown",
      "source": "###### **아래처럼 dictionary원소를 순회해도 key만 가져오게 됨!**",
      "metadata": {
        "jp-MarkdownHeadingCollapsed": true
      }
    },
    {
      "cell_type": "code",
      "source": "dict = {'a': 1, 'b': 2, 'c': 3}\nfor key in dict:\n    print(key)",
      "metadata": {
        "trusted": true
      },
      "outputs": [
        {
          "name": "stdout",
          "text": "a\nb\nc\n",
          "output_type": "stream"
        }
      ],
      "execution_count": 27
    },
    {
      "cell_type": "markdown",
      "source": "###### **둘다 가져오고 싶다면**",
      "metadata": {
        "jp-MarkdownHeadingCollapsed": true
      }
    },
    {
      "cell_type": "code",
      "source": "for key, value in dict.items():\n    print('key', key)\n    print('value', value)",
      "metadata": {
        "trusted": true
      },
      "outputs": [
        {
          "name": "stdout",
          "text": "key a\nvalue 1\nkey b\nvalue 2\nkey c\nvalue 3\n",
          "output_type": "stream"
        }
      ],
      "execution_count": 26
    },
    {
      "cell_type": "markdown",
      "source": "##### **반복문**",
      "metadata": {
        "jp-MarkdownHeadingCollapsed": true
      }
    },
    {
      "cell_type": "code",
      "source": "for floor in [i+1 for i in range(5)]:\n    for each in [i+1 for i in range(4)]:\n        print(floor, each)",
      "metadata": {
        "trusted": true
      },
      "outputs": [
        {
          "name": "stdout",
          "text": "1 1\n1 2\n1 3\n1 4\n2 1\n2 2\n2 3\n2 4\n3 1\n3 2\n3 3\n3 4\n4 1\n4 2\n4 3\n4 4\n5 1\n5 2\n5 3\n5 4\n",
          "output_type": "stream"
        }
      ],
      "execution_count": 36
    },
    {
      "cell_type": "markdown",
      "source": "##### **중첩된 반복문**",
      "metadata": {}
    },
    {
      "cell_type": "markdown",
      "source": "- 좌상단에서 시작됨\n\n    for ㅁㅁㅁㅁㅁㅁ\n  \n        for ㅁㅁㅁㅁㅁ 구조에서는..",
      "metadata": {}
    },
    {
      "cell_type": "code",
      "source": "for i in range(2):\n    print(f'{i}층')\n    for j in range(1,5):\n        print(f'{j}호')",
      "metadata": {
        "trusted": true
      },
      "outputs": [
        {
          "name": "stdout",
          "text": "0층\n1호\n2호\n3호\n4호\n1층\n1호\n2호\n3호\n4호\n",
          "output_type": "stream"
        }
      ],
      "execution_count": 39
    },
    {
      "cell_type": "code",
      "source": "element = [['A', 'B'], ['c', 'd']]\n\nfor i in element[0]:\n    print(i)\n    for j in element[1]:\n        print(j)\n\nprint('='*40)\n\nfor i in range(2):\n    print(element[0][i])\n    for j in range(2):\n        print(element[1][j])",
      "metadata": {
        "trusted": true
      },
      "outputs": [
        {
          "name": "stdout",
          "text": "A\nc\nd\nB\nc\nd\n========================================\nA\nc\nd\nB\nc\nd\n",
          "output_type": "stream"
        }
      ],
      "execution_count": 56
    },
    {
      "cell_type": "code",
      "source": "00\n10\n11\n\n01\n10\n11",
      "metadata": {
        "trusted": true
      },
      "outputs": [
        {
          "ename": "<class 'SyntaxError'>",
          "evalue": "leading zeros in decimal integer literals are not permitted; use an 0o prefix for octal integers (<ipython-input-51-90765e1170ef>, line 5)",
          "traceback": [
            "\u001b[0;36m  Cell \u001b[0;32mIn[51], line 5\u001b[0;36m\u001b[0m\n\u001b[0;31m    01\u001b[0m\n\u001b[0m    ^\u001b[0m\n\u001b[0;31mSyntaxError\u001b[0m\u001b[0;31m:\u001b[0m leading zeros in decimal integer literals are not permitted; use an 0o prefix for octal integers\n"
          ],
          "output_type": "error"
        }
      ],
      "execution_count": 51
    },
    {
      "cell_type": "code",
      "source": "",
      "metadata": {
        "trusted": true
      },
      "outputs": [],
      "execution_count": null
    }
  ]
}